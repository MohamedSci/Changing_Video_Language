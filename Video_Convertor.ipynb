{
  "nbformat": 4,
  "nbformat_minor": 0,
  "metadata": {
    "colab": {
      "provenance": [],
      "toc_visible": true
    },
    "kernelspec": {
      "name": "python3",
      "display_name": "Python 3"
    },
    "language_info": {
      "name": "python"
    }
  },
  "cells": [
    {
      "cell_type": "markdown",
      "source": [
        "**Extracting audio from a video file using Python, you can use the moviepy library. **"
      ],
      "metadata": {
        "id": "i5qTiHwK-pPS"
      }
    },
    {
      "cell_type": "code",
      "source": [
        "pip install moviepy"
      ],
      "metadata": {
        "id": "ckhxxmlJ-tKm"
      },
      "execution_count": null,
      "outputs": []
    },
    {
      "cell_type": "code",
      "source": [
        "from moviepy.editor import VideoFileClip\n",
        "\n",
        "def extract_audio(video_path, output_audio_path):\n",
        "    # Load the video clip\n",
        "    video_clip = VideoFileClip(video_path)\n",
        "\n",
        "    # Extract the audio from the video clip\n",
        "    audio_clip = video_clip.audio\n",
        "\n",
        "    # Write the audio to a new file\n",
        "    audio_clip.write_audiofile(output_audio_path, codec='mp3')  # You can choose the desired audio codec\n",
        "\n",
        "    # Close the clips\n",
        "    video_clip.close()\n",
        "    audio_clip.close()\n",
        "\n",
        "# Replace 'input_video.mp4' and 'output_audio.mp3' with your video and desired audio file paths\n",
        "input_video_path = 'input_video.mp4'\n",
        "output_audio_path = 'output_audio.mp3'\n",
        "\n",
        "extract_audio(input_video_path, output_audio_path)\n",
        "\n",
        "print(f\"Audio extracted from video and saved to {output_audio_path}\")"
      ],
      "metadata": {
        "id": "JMw9hnZU-xgI"
      },
      "execution_count": null,
      "outputs": []
    },
    {
      "cell_type": "markdown",
      "source": [
        "**Converting an audio file to a transcript text file using Python, you can leverage the SpeechRecognition library, which supports several ASR engines, including Google Web Speech API.**"
      ],
      "metadata": {
        "id": "wBjNvuCU9WU5"
      }
    },
    {
      "cell_type": "code",
      "execution_count": 1,
      "metadata": {
        "colab": {
          "base_uri": "https://localhost:8080/"
        },
        "id": "YyTgHVjW86hj",
        "outputId": "fb7bf084-9f3c-4728-fb5c-630aa203304b"
      },
      "outputs": [
        {
          "output_type": "stream",
          "name": "stdout",
          "text": [
            "Collecting SpeechRecognition\n",
            "  Downloading SpeechRecognition-3.10.1-py2.py3-none-any.whl (32.8 MB)\n",
            "\u001b[2K     \u001b[90m━━━━━━━━━━━━━━━━━━━━━━━━━━━━━━━━━━━━━━━━\u001b[0m \u001b[32m32.8/32.8 MB\u001b[0m \u001b[31m43.8 MB/s\u001b[0m eta \u001b[36m0:00:00\u001b[0m\n",
            "\u001b[?25hRequirement already satisfied: requests>=2.26.0 in /usr/local/lib/python3.10/dist-packages (from SpeechRecognition) (2.31.0)\n",
            "Requirement already satisfied: typing-extensions in /usr/local/lib/python3.10/dist-packages (from SpeechRecognition) (4.5.0)\n",
            "Requirement already satisfied: charset-normalizer<4,>=2 in /usr/local/lib/python3.10/dist-packages (from requests>=2.26.0->SpeechRecognition) (3.3.2)\n",
            "Requirement already satisfied: idna<4,>=2.5 in /usr/local/lib/python3.10/dist-packages (from requests>=2.26.0->SpeechRecognition) (3.6)\n",
            "Requirement already satisfied: urllib3<3,>=1.21.1 in /usr/local/lib/python3.10/dist-packages (from requests>=2.26.0->SpeechRecognition) (2.0.7)\n",
            "Requirement already satisfied: certifi>=2017.4.17 in /usr/local/lib/python3.10/dist-packages (from requests>=2.26.0->SpeechRecognition) (2023.11.17)\n",
            "Installing collected packages: SpeechRecognition\n",
            "Successfully installed SpeechRecognition-3.10.1\n"
          ]
        }
      ],
      "source": [
        "pip install SpeechRecognition"
      ]
    },
    {
      "cell_type": "code",
      "source": [
        "import speech_recognition as sr\n",
        "\n",
        "def audio_to_text(audio_file_path):\n",
        "    recognizer = sr.Recognizer()\n",
        "\n",
        "    # Load the audio file\n",
        "    audio_file = sr.AudioFile(audio_file_path)\n",
        "\n",
        "    # Use the Google Web Speech API for transcription\n",
        "    with audio_file as source:\n",
        "        audio_data = recognizer.record(source)\n",
        "\n",
        "    try:\n",
        "        # Use Google Web Speech API to transcribe the audio\n",
        "        text_result = recognizer.recognize_google(audio_data)\n",
        "        return text_result\n",
        "    except sr.UnknownValueError:\n",
        "        print(\"Google Web Speech API could not understand the audio.\")\n",
        "    except sr.RequestError as e:\n",
        "        print(f\"Could not request results from Google Web Speech API; {e}\")\n",
        "\n",
        "    return None\n",
        "\n",
        "# Replace 'path/to/your/audio/file.wav' with the path to your audio file\n",
        "audio_path = 'path/to/your/audio/file.wav'\n",
        "transcript = audio_to_text(audio_path)\n",
        "\n",
        "if transcript:\n",
        "    # Save the transcript to a text file\n",
        "    with open('transcript.txt', 'w') as file:\n",
        "        file.write(transcript)\n",
        "    print(\"Transcription successful. Text saved to transcript.txt.\")\n",
        "else:\n",
        "    print(\"Transcription failed.\")\n"
      ],
      "metadata": {
        "id": "cLc6tuof9oZY"
      },
      "execution_count": null,
      "outputs": []
    },
    {
      "cell_type": "markdown",
      "source": [
        "***Converting an Arabic transcript text file to an MP3 audio file using Python, you can use the gTTS (Google Text-to-Speech) library.***"
      ],
      "metadata": {
        "id": "G68AR1u29TnF"
      }
    },
    {
      "cell_type": "code",
      "source": [
        "pip install gtts"
      ],
      "metadata": {
        "id": "r9-_4lyc9_5a"
      },
      "execution_count": null,
      "outputs": []
    },
    {
      "cell_type": "code",
      "source": [
        "from gtts import gTTS\n",
        "\n",
        "def text_to_audio(text, output_file):\n",
        "    # Language parameter is set to 'ar' for Arabic\n",
        "    tts = gTTS(text=text, lang='ar')\n",
        "\n",
        "    # Save the generated audio to a file\n",
        "    tts.save(output_file)\n",
        "\n",
        "# Replace 'input_text.txt' with the path to your Arabic transcript text file\n",
        "input_text_file = 'input_text.txt'\n",
        "output_audio_file = 'output_audio.mp3'\n",
        "\n",
        "# Read the Arabic text from the file\n",
        "with open(input_text_file, 'r', encoding='utf-8') as file:\n",
        "    arabic_text = file.read()\n",
        "\n",
        "# Convert Arabic text to MP3 audio\n",
        "text_to_audio(arabic_text, output_audio_file)\n",
        "\n",
        "print(f\"Audio file saved to {output_audio_file}\")\n"
      ],
      "metadata": {
        "id": "0sc2Uz3M-Cu6"
      },
      "execution_count": null,
      "outputs": []
    },
    {
      "cell_type": "markdown",
      "source": [
        "** Replacing the original audio in a video file with an external audio file using Python, you can use the moviepy library. **"
      ],
      "metadata": {
        "id": "8iqIS50E-K2o"
      }
    },
    {
      "cell_type": "code",
      "source": [
        "pip install moviepy"
      ],
      "metadata": {
        "id": "edE6zFnD-GSI"
      },
      "execution_count": null,
      "outputs": []
    },
    {
      "cell_type": "code",
      "source": [
        "from moviepy.editor import VideoFileClip, AudioFileClip\n",
        "\n",
        "def replace_audio(video_path, audio_path, output_path):\n",
        "    # Load the video clip\n",
        "    video_clip = VideoFileClip(video_path)\n",
        "\n",
        "    # Load the external audio clip\n",
        "    audio_clip = AudioFileClip(audio_path)\n",
        "\n",
        "    # Set the video clip's audio to the external audio\n",
        "    video_clip = video_clip.set_audio(audio_clip)\n",
        "\n",
        "    # Write the result to a new file\n",
        "    video_clip.write_videofile(output_path, codec='libx264', audio_codec='aac')\n",
        "\n",
        "    # Close the clips\n",
        "    video_clip.close()\n",
        "    audio_clip.close()\n",
        "\n",
        "# Replace 'input_video.mp4', 'input_audio.mp3' with your video and audio file paths\n",
        "input_video_path = 'input_video.mp4'\n",
        "input_audio_path = 'input_audio.mp3'\n",
        "output_video_path = 'output_video_with_external_audio.mp4'\n",
        "\n",
        "replace_audio(input_video_path, input_audio_path, output_video_path)\n",
        "\n",
        "print(f\"Video with external audio saved to {output_video_path}\")\n"
      ],
      "metadata": {
        "id": "f9s5wD4o-RLr"
      },
      "execution_count": null,
      "outputs": []
    }
  ]
}